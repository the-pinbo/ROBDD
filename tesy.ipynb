{
 "cells": [
  {
   "cell_type": "code",
   "execution_count": 5,
   "metadata": {},
   "outputs": [],
   "source": [
    "from myBdd import *"
   ]
  },
  {
   "cell_type": "code",
   "execution_count": 12,
   "metadata": {},
   "outputs": [
    {
     "name": "stdout",
     "output_type": "stream",
     "text": [
      "4\n",
      "3\n",
      "3 1 2 3\n",
      "2 -2 4\n",
      "2 -3 4\n",
      "[1, 2, 3, 4]\n"
     ]
    },
    {
     "ename": "ValueError",
     "evalue": "invalid ordering list",
     "output_type": "error",
     "traceback": [
      "\u001b[1;31m---------------------------------------------------------------------------\u001b[0m",
      "\u001b[1;31mKeyError\u001b[0m                                  Traceback (most recent call last)",
      "File \u001b[1;32mc:\\Users\\inba2\\Desktop\\VLSI CAD\\03_BDD\\ROBDD\\myBdd.py:90\u001b[0m, in \u001b[0;36mbddNode\u001b[1;34m(exp, ordering, cache, idx)\u001b[0m\n\u001b[0;32m     89\u001b[0m \u001b[39mtry\u001b[39;00m:\n\u001b[1;32m---> 90\u001b[0m     node \u001b[39m=\u001b[39m cache[key]\n\u001b[0;32m     91\u001b[0m \u001b[39mexcept\u001b[39;00m \u001b[39mKeyError\u001b[39;00m:\n",
      "File \u001b[1;32mc:\\ProgramData\\Anaconda3\\lib\\weakref.py:137\u001b[0m, in \u001b[0;36mWeakValueDictionary.__getitem__\u001b[1;34m(self, key)\u001b[0m\n\u001b[0;32m    136\u001b[0m     \u001b[39mself\u001b[39m\u001b[39m.\u001b[39m_commit_removals()\n\u001b[1;32m--> 137\u001b[0m o \u001b[39m=\u001b[39m \u001b[39mself\u001b[39;49m\u001b[39m.\u001b[39;49mdata[key]()\n\u001b[0;32m    138\u001b[0m \u001b[39mif\u001b[39;00m o \u001b[39mis\u001b[39;00m \u001b[39mNone\u001b[39;00m:\n",
      "\u001b[1;31mKeyError\u001b[0m: (1, 4\n2\n2 -3 4\n2 -2 4, 4\n3\n2 2 3\n2 -3 4\n2 -2 4)",
      "\nDuring handling of the above exception, another exception occurred:\n",
      "\u001b[1;31mKeyError\u001b[0m                                  Traceback (most recent call last)",
      "File \u001b[1;32mc:\\Users\\inba2\\Desktop\\VLSI CAD\\03_BDD\\ROBDD\\myBdd.py:90\u001b[0m, in \u001b[0;36mbddNode\u001b[1;34m(exp, ordering, cache, idx)\u001b[0m\n\u001b[0;32m     89\u001b[0m \u001b[39mtry\u001b[39;00m:\n\u001b[1;32m---> 90\u001b[0m     node \u001b[39m=\u001b[39m cache[key]\n\u001b[0;32m     91\u001b[0m \u001b[39mexcept\u001b[39;00m \u001b[39mKeyError\u001b[39;00m:\n",
      "File \u001b[1;32mc:\\ProgramData\\Anaconda3\\lib\\weakref.py:137\u001b[0m, in \u001b[0;36mWeakValueDictionary.__getitem__\u001b[1;34m(self, key)\u001b[0m\n\u001b[0;32m    136\u001b[0m     \u001b[39mself\u001b[39m\u001b[39m.\u001b[39m_commit_removals()\n\u001b[1;32m--> 137\u001b[0m o \u001b[39m=\u001b[39m \u001b[39mself\u001b[39;49m\u001b[39m.\u001b[39;49mdata[key]()\n\u001b[0;32m    138\u001b[0m \u001b[39mif\u001b[39;00m o \u001b[39mis\u001b[39;00m \u001b[39mNone\u001b[39;00m:\n",
      "\u001b[1;31mKeyError\u001b[0m: (4, 4\n0, 4\n2\n1 -3\n1 -2)",
      "\nDuring handling of the above exception, another exception occurred:\n",
      "\u001b[1;31mValueError\u001b[0m                                Traceback (most recent call last)",
      "\u001b[1;32mc:\\Users\\inba2\\Desktop\\VLSI CAD\\03_BDD\\ROBDD\\tesy.ipynb Cell 2\u001b[0m in \u001b[0;36m<cell line: 6>\u001b[1;34m()\u001b[0m\n\u001b[0;32m      <a href='vscode-notebook-cell:/c%3A/Users/inba2/Desktop/VLSI%20CAD/03_BDD/ROBDD/tesy.ipynb#W0sZmlsZQ%3D%3D?line=3'>4</a>\u001b[0m ordering \u001b[39m=\u001b[39m [\u001b[39m1\u001b[39m,\u001b[39m2\u001b[39m,\u001b[39m3\u001b[39m,\u001b[39m4\u001b[39m]\n\u001b[0;32m      <a href='vscode-notebook-cell:/c%3A/Users/inba2/Desktop/VLSI%20CAD/03_BDD/ROBDD/tesy.ipynb#W0sZmlsZQ%3D%3D?line=4'>5</a>\u001b[0m \u001b[39mprint\u001b[39m(ordering)\n\u001b[1;32m----> <a href='vscode-notebook-cell:/c%3A/Users/inba2/Desktop/VLSI%20CAD/03_BDD/ROBDD/tesy.ipynb#W0sZmlsZQ%3D%3D?line=5'>6</a>\u001b[0m a \u001b[39m=\u001b[39m BDD(f, ordering)\n\u001b[0;32m      <a href='vscode-notebook-cell:/c%3A/Users/inba2/Desktop/VLSI%20CAD/03_BDD/ROBDD/tesy.ipynb#W0sZmlsZQ%3D%3D?line=6'>7</a>\u001b[0m a\n",
      "File \u001b[1;32mc:\\Users\\inba2\\Desktop\\VLSI CAD\\03_BDD\\ROBDD\\myBdd.py:48\u001b[0m, in \u001b[0;36mBDD.__init__\u001b[1;34m(self, exp, ordering)\u001b[0m\n\u001b[0;32m     45\u001b[0m \u001b[39mself\u001b[39m\u001b[39m.\u001b[39mBDDNODEONE \u001b[39m=\u001b[39m BDDNode\u001b[39m.\u001b[39mgetNodeOne(exp\u001b[39m.\u001b[39mnumVars)\n\u001b[0;32m     46\u001b[0m \u001b[39mself\u001b[39m\u001b[39m.\u001b[39mNODES[\u001b[39mself\u001b[39m\u001b[39m.\u001b[39mBDDNODEONE\u001b[39m.\u001b[39mgetKey()] \u001b[39m=\u001b[39m \u001b[39mself\u001b[39m\u001b[39m.\u001b[39mBDDNODEONE\n\u001b[1;32m---> 48\u001b[0m \u001b[39mself\u001b[39m\u001b[39m.\u001b[39mnode \u001b[39m=\u001b[39m \u001b[39mself\u001b[39;49m\u001b[39m.\u001b[39;49mbuildBDD()\n",
      "File \u001b[1;32mc:\\Users\\inba2\\Desktop\\VLSI CAD\\03_BDD\\ROBDD\\myBdd.py:51\u001b[0m, in \u001b[0;36mBDD.buildBDD\u001b[1;34m(self)\u001b[0m\n\u001b[0;32m     50\u001b[0m \u001b[39mdef\u001b[39;00m \u001b[39mbuildBDD\u001b[39m(\u001b[39mself\u001b[39m):\n\u001b[1;32m---> 51\u001b[0m     \u001b[39mreturn\u001b[39;00m buildBDD(\u001b[39mself\u001b[39;49m\u001b[39m.\u001b[39;49mexp, \u001b[39mself\u001b[39;49m\u001b[39m.\u001b[39;49mordering, \u001b[39mself\u001b[39;49m\u001b[39m.\u001b[39;49mNODES)\n",
      "File \u001b[1;32mc:\\Users\\inba2\\Desktop\\VLSI CAD\\03_BDD\\ROBDD\\myBdd.py:76\u001b[0m, in \u001b[0;36mbuildBDD\u001b[1;34m(exp, ordering, cache)\u001b[0m\n\u001b[0;32m     74\u001b[0m \u001b[39mfor\u001b[39;00m idx, var \u001b[39min\u001b[39;00m \u001b[39menumerate\u001b[39m(ordering):\n\u001b[0;32m     75\u001b[0m     \u001b[39mif\u001b[39;00m exp\u001b[39m.\u001b[39misPresent(var):\n\u001b[1;32m---> 76\u001b[0m         \u001b[39mreturn\u001b[39;00m bddNode(exp, ordering, cache, idx)\n\u001b[0;32m     78\u001b[0m \u001b[39mraise\u001b[39;00m \u001b[39mValueError\u001b[39;00m(\u001b[39m\"\u001b[39m\u001b[39minvalid ordering list\u001b[39m\u001b[39m\"\u001b[39m)\n",
      "File \u001b[1;32mc:\\Users\\inba2\\Desktop\\VLSI CAD\\03_BDD\\ROBDD\\myBdd.py:93\u001b[0m, in \u001b[0;36mbddNode\u001b[1;34m(exp, ordering, cache, idx)\u001b[0m\n\u001b[0;32m     91\u001b[0m \u001b[39mexcept\u001b[39;00m \u001b[39mKeyError\u001b[39;00m:\n\u001b[0;32m     92\u001b[0m     node \u001b[39m=\u001b[39m BDDNode(exp, var)\n\u001b[1;32m---> 93\u001b[0m     node\u001b[39m.\u001b[39mlo \u001b[39m=\u001b[39m buildBDD(lo, ordering, cache)\n\u001b[0;32m     94\u001b[0m     node\u001b[39m.\u001b[39mhi \u001b[39m=\u001b[39m buildBDD(hi, ordering, cache)\n\u001b[0;32m     95\u001b[0m     cache[key] \u001b[39m=\u001b[39m node\n",
      "File \u001b[1;32mc:\\Users\\inba2\\Desktop\\VLSI CAD\\03_BDD\\ROBDD\\myBdd.py:76\u001b[0m, in \u001b[0;36mbuildBDD\u001b[1;34m(exp, ordering, cache)\u001b[0m\n\u001b[0;32m     74\u001b[0m \u001b[39mfor\u001b[39;00m idx, var \u001b[39min\u001b[39;00m \u001b[39menumerate\u001b[39m(ordering):\n\u001b[0;32m     75\u001b[0m     \u001b[39mif\u001b[39;00m exp\u001b[39m.\u001b[39misPresent(var):\n\u001b[1;32m---> 76\u001b[0m         \u001b[39mreturn\u001b[39;00m bddNode(exp, ordering, cache, idx)\n\u001b[0;32m     78\u001b[0m \u001b[39mraise\u001b[39;00m \u001b[39mValueError\u001b[39;00m(\u001b[39m\"\u001b[39m\u001b[39minvalid ordering list\u001b[39m\u001b[39m\"\u001b[39m)\n",
      "File \u001b[1;32mc:\\Users\\inba2\\Desktop\\VLSI CAD\\03_BDD\\ROBDD\\myBdd.py:94\u001b[0m, in \u001b[0;36mbddNode\u001b[1;34m(exp, ordering, cache, idx)\u001b[0m\n\u001b[0;32m     92\u001b[0m         node \u001b[39m=\u001b[39m BDDNode(exp, var)\n\u001b[0;32m     93\u001b[0m         node\u001b[39m.\u001b[39mlo \u001b[39m=\u001b[39m buildBDD(lo, ordering, cache)\n\u001b[1;32m---> 94\u001b[0m         node\u001b[39m.\u001b[39mhi \u001b[39m=\u001b[39m buildBDD(hi, ordering, cache)\n\u001b[0;32m     95\u001b[0m         cache[key] \u001b[39m=\u001b[39m node\n\u001b[0;32m     96\u001b[0m \u001b[39mreturn\u001b[39;00m node\n",
      "File \u001b[1;32mc:\\Users\\inba2\\Desktop\\VLSI CAD\\03_BDD\\ROBDD\\myBdd.py:78\u001b[0m, in \u001b[0;36mbuildBDD\u001b[1;34m(exp, ordering, cache)\u001b[0m\n\u001b[0;32m     75\u001b[0m     \u001b[39mif\u001b[39;00m exp\u001b[39m.\u001b[39misPresent(var):\n\u001b[0;32m     76\u001b[0m         \u001b[39mreturn\u001b[39;00m bddNode(exp, ordering, cache, idx)\n\u001b[1;32m---> 78\u001b[0m \u001b[39mraise\u001b[39;00m \u001b[39mValueError\u001b[39;00m(\u001b[39m\"\u001b[39m\u001b[39minvalid ordering list\u001b[39m\u001b[39m\"\u001b[39m)\n",
      "\u001b[1;31mValueError\u001b[0m: invalid ordering list"
     ]
    }
   ],
   "source": [
    "f = boolfunc.Expression(\n",
    "    r\"input\\1.pcn\")\n",
    "print(f)\n",
    "ordering = [1,2,3,4]\n",
    "print(ordering)\n",
    "a = BDD(f, ordering)\n",
    "a"
   ]
  },
  {
   "cell_type": "code",
   "execution_count": 11,
   "metadata": {},
   "outputs": [
    {
     "data": {
      "text/plain": [
       "(2, <myBdd.BDDNode at 0x2957d5dcc70>, <myBdd.BDDNode at 0x2957d5dcdc0>)"
      ]
     },
     "execution_count": 11,
     "metadata": {},
     "output_type": "execute_result"
    }
   ],
   "source": [
    "a.node.getKey()"
   ]
  },
  {
   "cell_type": "code",
   "execution_count": 9,
   "metadata": {},
   "outputs": [
    {
     "ename": "ValueError",
     "evalue": "invalid ordering list",
     "output_type": "error",
     "traceback": [
      "\u001b[1;31m---------------------------------------------------------------------------\u001b[0m",
      "\u001b[1;31mKeyError\u001b[0m                                  Traceback (most recent call last)",
      "File \u001b[1;32mc:\\Users\\inba2\\Desktop\\VLSI CAD\\03_BDD\\ROBDD\\myBdd.py:90\u001b[0m, in \u001b[0;36mbddNode\u001b[1;34m(exp, ordering, cache, idx)\u001b[0m\n\u001b[0;32m     89\u001b[0m \u001b[39mtry\u001b[39;00m:\n\u001b[1;32m---> 90\u001b[0m     node \u001b[39m=\u001b[39m cache[key]\n\u001b[0;32m     91\u001b[0m \u001b[39mexcept\u001b[39;00m \u001b[39mKeyError\u001b[39;00m:\n",
      "File \u001b[1;32mc:\\ProgramData\\Anaconda3\\lib\\weakref.py:137\u001b[0m, in \u001b[0;36mWeakValueDictionary.__getitem__\u001b[1;34m(self, key)\u001b[0m\n\u001b[0;32m    136\u001b[0m     \u001b[39mself\u001b[39m\u001b[39m.\u001b[39m_commit_removals()\n\u001b[1;32m--> 137\u001b[0m o \u001b[39m=\u001b[39m \u001b[39mself\u001b[39;49m\u001b[39m.\u001b[39;49mdata[key]()\n\u001b[0;32m    138\u001b[0m \u001b[39mif\u001b[39;00m o \u001b[39mis\u001b[39;00m \u001b[39mNone\u001b[39;00m:\n",
      "\u001b[1;31mKeyError\u001b[0m: (1, 4\n2\n2 -3 4\n2 -2 4, 4\n3\n2 2 3\n2 -3 4\n2 -2 4)",
      "\nDuring handling of the above exception, another exception occurred:\n",
      "\u001b[1;31mKeyError\u001b[0m                                  Traceback (most recent call last)",
      "File \u001b[1;32mc:\\Users\\inba2\\Desktop\\VLSI CAD\\03_BDD\\ROBDD\\myBdd.py:90\u001b[0m, in \u001b[0;36mbddNode\u001b[1;34m(exp, ordering, cache, idx)\u001b[0m\n\u001b[0;32m     89\u001b[0m \u001b[39mtry\u001b[39;00m:\n\u001b[1;32m---> 90\u001b[0m     node \u001b[39m=\u001b[39m cache[key]\n\u001b[0;32m     91\u001b[0m \u001b[39mexcept\u001b[39;00m \u001b[39mKeyError\u001b[39;00m:\n",
      "File \u001b[1;32mc:\\ProgramData\\Anaconda3\\lib\\weakref.py:137\u001b[0m, in \u001b[0;36mWeakValueDictionary.__getitem__\u001b[1;34m(self, key)\u001b[0m\n\u001b[0;32m    136\u001b[0m     \u001b[39mself\u001b[39m\u001b[39m.\u001b[39m_commit_removals()\n\u001b[1;32m--> 137\u001b[0m o \u001b[39m=\u001b[39m \u001b[39mself\u001b[39;49m\u001b[39m.\u001b[39;49mdata[key]()\n\u001b[0;32m    138\u001b[0m \u001b[39mif\u001b[39;00m o \u001b[39mis\u001b[39;00m \u001b[39mNone\u001b[39;00m:\n",
      "\u001b[1;31mKeyError\u001b[0m: (4, 4\n0, 4\n2\n1 -3\n1 -2)",
      "\nDuring handling of the above exception, another exception occurred:\n",
      "\u001b[1;31mValueError\u001b[0m                                Traceback (most recent call last)",
      "\u001b[1;32mc:\\Users\\inba2\\Desktop\\VLSI CAD\\03_BDD\\ROBDD\\tesy.ipynb Cell 3\u001b[0m in \u001b[0;36m<cell line: 2>\u001b[1;34m()\u001b[0m\n\u001b[0;32m      <a href='vscode-notebook-cell:/c%3A/Users/inba2/Desktop/VLSI%20CAD/03_BDD/ROBDD/tesy.ipynb#X16sZmlsZQ%3D%3D?line=0'>1</a>\u001b[0m ordering \u001b[39m=\u001b[39m [\u001b[39m1\u001b[39m,\u001b[39m4\u001b[39m,\u001b[39m2\u001b[39m,\u001b[39m3\u001b[39m]\n\u001b[1;32m----> <a href='vscode-notebook-cell:/c%3A/Users/inba2/Desktop/VLSI%20CAD/03_BDD/ROBDD/tesy.ipynb#X16sZmlsZQ%3D%3D?line=1'>2</a>\u001b[0m b \u001b[39m=\u001b[39m BDD(f, ordering)\n\u001b[0;32m      <a href='vscode-notebook-cell:/c%3A/Users/inba2/Desktop/VLSI%20CAD/03_BDD/ROBDD/tesy.ipynb#X16sZmlsZQ%3D%3D?line=2'>3</a>\u001b[0m b\n",
      "File \u001b[1;32mc:\\Users\\inba2\\Desktop\\VLSI CAD\\03_BDD\\ROBDD\\myBdd.py:48\u001b[0m, in \u001b[0;36mBDD.__init__\u001b[1;34m(self, exp, ordering)\u001b[0m\n\u001b[0;32m     45\u001b[0m \u001b[39mself\u001b[39m\u001b[39m.\u001b[39mBDDNODEONE \u001b[39m=\u001b[39m BDDNode\u001b[39m.\u001b[39mgetNodeOne(exp\u001b[39m.\u001b[39mnumVars)\n\u001b[0;32m     46\u001b[0m \u001b[39mself\u001b[39m\u001b[39m.\u001b[39mNODES[\u001b[39mself\u001b[39m\u001b[39m.\u001b[39mBDDNODEONE\u001b[39m.\u001b[39mgetKey()] \u001b[39m=\u001b[39m \u001b[39mself\u001b[39m\u001b[39m.\u001b[39mBDDNODEONE\n\u001b[1;32m---> 48\u001b[0m \u001b[39mself\u001b[39m\u001b[39m.\u001b[39mnode \u001b[39m=\u001b[39m \u001b[39mself\u001b[39;49m\u001b[39m.\u001b[39;49mbuildBDD()\n",
      "File \u001b[1;32mc:\\Users\\inba2\\Desktop\\VLSI CAD\\03_BDD\\ROBDD\\myBdd.py:51\u001b[0m, in \u001b[0;36mBDD.buildBDD\u001b[1;34m(self)\u001b[0m\n\u001b[0;32m     50\u001b[0m \u001b[39mdef\u001b[39;00m \u001b[39mbuildBDD\u001b[39m(\u001b[39mself\u001b[39m):\n\u001b[1;32m---> 51\u001b[0m     \u001b[39mreturn\u001b[39;00m buildBDD(\u001b[39mself\u001b[39;49m\u001b[39m.\u001b[39;49mexp, \u001b[39mself\u001b[39;49m\u001b[39m.\u001b[39;49mordering, \u001b[39mself\u001b[39;49m\u001b[39m.\u001b[39;49mNODES)\n",
      "File \u001b[1;32mc:\\Users\\inba2\\Desktop\\VLSI CAD\\03_BDD\\ROBDD\\myBdd.py:76\u001b[0m, in \u001b[0;36mbuildBDD\u001b[1;34m(exp, ordering, cache)\u001b[0m\n\u001b[0;32m     74\u001b[0m \u001b[39mfor\u001b[39;00m idx, var \u001b[39min\u001b[39;00m \u001b[39menumerate\u001b[39m(ordering):\n\u001b[0;32m     75\u001b[0m     \u001b[39mif\u001b[39;00m exp\u001b[39m.\u001b[39misPresent(var):\n\u001b[1;32m---> 76\u001b[0m         \u001b[39mreturn\u001b[39;00m bddNode(exp, ordering, cache, idx)\n\u001b[0;32m     78\u001b[0m \u001b[39mraise\u001b[39;00m \u001b[39mValueError\u001b[39;00m(\u001b[39m\"\u001b[39m\u001b[39minvalid ordering list\u001b[39m\u001b[39m\"\u001b[39m)\n",
      "File \u001b[1;32mc:\\Users\\inba2\\Desktop\\VLSI CAD\\03_BDD\\ROBDD\\myBdd.py:93\u001b[0m, in \u001b[0;36mbddNode\u001b[1;34m(exp, ordering, cache, idx)\u001b[0m\n\u001b[0;32m     91\u001b[0m \u001b[39mexcept\u001b[39;00m \u001b[39mKeyError\u001b[39;00m:\n\u001b[0;32m     92\u001b[0m     node \u001b[39m=\u001b[39m BDDNode(exp, var)\n\u001b[1;32m---> 93\u001b[0m     node\u001b[39m.\u001b[39mlo \u001b[39m=\u001b[39m buildBDD(lo, ordering, cache)\n\u001b[0;32m     94\u001b[0m     node\u001b[39m.\u001b[39mhi \u001b[39m=\u001b[39m buildBDD(hi, ordering, cache)\n\u001b[0;32m     95\u001b[0m     cache[key] \u001b[39m=\u001b[39m node\n",
      "File \u001b[1;32mc:\\Users\\inba2\\Desktop\\VLSI CAD\\03_BDD\\ROBDD\\myBdd.py:76\u001b[0m, in \u001b[0;36mbuildBDD\u001b[1;34m(exp, ordering, cache)\u001b[0m\n\u001b[0;32m     74\u001b[0m \u001b[39mfor\u001b[39;00m idx, var \u001b[39min\u001b[39;00m \u001b[39menumerate\u001b[39m(ordering):\n\u001b[0;32m     75\u001b[0m     \u001b[39mif\u001b[39;00m exp\u001b[39m.\u001b[39misPresent(var):\n\u001b[1;32m---> 76\u001b[0m         \u001b[39mreturn\u001b[39;00m bddNode(exp, ordering, cache, idx)\n\u001b[0;32m     78\u001b[0m \u001b[39mraise\u001b[39;00m \u001b[39mValueError\u001b[39;00m(\u001b[39m\"\u001b[39m\u001b[39minvalid ordering list\u001b[39m\u001b[39m\"\u001b[39m)\n",
      "File \u001b[1;32mc:\\Users\\inba2\\Desktop\\VLSI CAD\\03_BDD\\ROBDD\\myBdd.py:94\u001b[0m, in \u001b[0;36mbddNode\u001b[1;34m(exp, ordering, cache, idx)\u001b[0m\n\u001b[0;32m     92\u001b[0m         node \u001b[39m=\u001b[39m BDDNode(exp, var)\n\u001b[0;32m     93\u001b[0m         node\u001b[39m.\u001b[39mlo \u001b[39m=\u001b[39m buildBDD(lo, ordering, cache)\n\u001b[1;32m---> 94\u001b[0m         node\u001b[39m.\u001b[39mhi \u001b[39m=\u001b[39m buildBDD(hi, ordering, cache)\n\u001b[0;32m     95\u001b[0m         cache[key] \u001b[39m=\u001b[39m node\n\u001b[0;32m     96\u001b[0m \u001b[39mreturn\u001b[39;00m node\n",
      "File \u001b[1;32mc:\\Users\\inba2\\Desktop\\VLSI CAD\\03_BDD\\ROBDD\\myBdd.py:78\u001b[0m, in \u001b[0;36mbuildBDD\u001b[1;34m(exp, ordering, cache)\u001b[0m\n\u001b[0;32m     75\u001b[0m     \u001b[39mif\u001b[39;00m exp\u001b[39m.\u001b[39misPresent(var):\n\u001b[0;32m     76\u001b[0m         \u001b[39mreturn\u001b[39;00m bddNode(exp, ordering, cache, idx)\n\u001b[1;32m---> 78\u001b[0m \u001b[39mraise\u001b[39;00m \u001b[39mValueError\u001b[39;00m(\u001b[39m\"\u001b[39m\u001b[39minvalid ordering list\u001b[39m\u001b[39m\"\u001b[39m)\n",
      "\u001b[1;31mValueError\u001b[0m: invalid ordering list"
     ]
    }
   ],
   "source": [
    "ordering = [1,4,2,3]\n",
    "b = BDD(f, ordering)\n",
    "b"
   ]
  }
 ],
 "metadata": {
  "kernelspec": {
   "display_name": "Python 3.9.12 ('base')",
   "language": "python",
   "name": "python3"
  },
  "language_info": {
   "codemirror_mode": {
    "name": "ipython",
    "version": 3
   },
   "file_extension": ".py",
   "mimetype": "text/x-python",
   "name": "python",
   "nbconvert_exporter": "python",
   "pygments_lexer": "ipython3",
   "version": "3.9.12"
  },
  "orig_nbformat": 4,
  "vscode": {
   "interpreter": {
    "hash": "ad2bdc8ecc057115af97d19610ffacc2b4e99fae6737bb82f5d7fb13d2f2c186"
   }
  }
 },
 "nbformat": 4,
 "nbformat_minor": 2
}
