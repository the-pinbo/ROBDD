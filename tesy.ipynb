{
 "cells": [
  {
   "cell_type": "code",
   "execution_count": 1,
   "metadata": {},
   "outputs": [],
   "source": [
    "from myBdd import *"
   ]
  },
  {
   "cell_type": "code",
   "execution_count": 2,
   "metadata": {},
   "outputs": [
    {
     "name": "stdout",
     "output_type": "stream",
     "text": [
      "4\n",
      "3\n",
      "3 1 2 3\n",
      "2 -2 4\n",
      "2 -3 4\n"
     ]
    }
   ],
   "source": [
    "f = boolfunc.Expression(\n",
    "    r\"input\\1.pcn\")\n",
    "print(f)\n"
   ]
  },
  {
   "cell_type": "code",
   "execution_count": 3,
   "metadata": {},
   "outputs": [
    {
     "name": "stdout",
     "output_type": "stream",
     "text": [
      "[1, 4, 2, 3]\n"
     ]
    },
    {
     "data": {
      "text/plain": [
       "<myBdd.BDD at 0x25aa0d53b50>"
      ]
     },
     "execution_count": 3,
     "metadata": {},
     "output_type": "execute_result"
    }
   ],
   "source": [
    "ordering = [1,4,2,3]\n",
    "print(ordering)\n",
    "a = BDD(f, ordering)\n",
    "a"
   ]
  },
  {
   "cell_type": "code",
   "execution_count": 5,
   "metadata": {},
   "outputs": [
    {
     "name": "stdout",
     "output_type": "stream",
     "text": [
      "4\n",
      "3\n",
      "3 1 2 3\n",
      "2 -2 4\n",
      "2 -3 4\n",
      "4\n",
      "2\n",
      "2 -3 4\n",
      "2 -2 4\n",
      "4\n",
      "0\n",
      "4\n",
      "2\n",
      "1 -3\n",
      "1 -2\n",
      "4\n",
      "1\n",
      "0\n",
      "4\n",
      "1\n",
      "1 -3\n",
      "4\n",
      "3\n",
      "2 2 3\n",
      "2 -3 4\n",
      "2 -2 4\n",
      "4\n",
      "1\n",
      "2 2 3\n",
      "4\n",
      "1\n",
      "1 3\n",
      "4\n",
      "3\n",
      "2 2 3\n",
      "1 -3\n",
      "1 -2\n"
     ]
    }
   ],
   "source": [
    "for node in a.dfsPreorder():\n",
    "    print(node.exp)"
   ]
  }
 ],
 "metadata": {
  "kernelspec": {
   "display_name": "Python 3.9.12 ('base')",
   "language": "python",
   "name": "python3"
  },
  "language_info": {
   "codemirror_mode": {
    "name": "ipython",
    "version": 3
   },
   "file_extension": ".py",
   "mimetype": "text/x-python",
   "name": "python",
   "nbconvert_exporter": "python",
   "pygments_lexer": "ipython3",
   "version": "3.9.12"
  },
  "orig_nbformat": 4,
  "vscode": {
   "interpreter": {
    "hash": "ad2bdc8ecc057115af97d19610ffacc2b4e99fae6737bb82f5d7fb13d2f2c186"
   }
  }
 },
 "nbformat": 4,
 "nbformat_minor": 2
}
