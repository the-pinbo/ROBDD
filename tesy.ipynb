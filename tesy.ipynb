{
 "cells": [
  {
   "cell_type": "code",
   "execution_count": 3,
   "metadata": {},
   "outputs": [
    {
     "name": "stdout",
     "output_type": "stream",
     "text": [
      "4\n",
      "3\n",
      "3 1 2 3\n",
      "2 -2 4\n",
      "2 -3 4\n",
      "[2, 3, 1, 4]\n"
     ]
    }
   ],
   "source": [
    "import collections\n",
    "from distutils.command.build import build\n",
    "from functools import cache\n",
    "import random\n",
    "import weakref\n",
    "import boolfunc\n",
    "\n",
    "\n",
    "class BDDNode:\n",
    "    BDDNODEZEROKEY = (-1, None, None)\n",
    "    BDDNODEONEKEY = (-2, None, None)\n",
    "\n",
    "    def __init__(self, exp, var):\n",
    "        self.exp = exp\n",
    "        self.var = var\n",
    "        self.lo = None\n",
    "        self.hi = None\n",
    "\n",
    "    @staticmethod\n",
    "    def getNodeZero(numVars):\n",
    "        # the var for zero node is made -1\n",
    "        exp = boolfunc.Expression.getEqnZero(numVars)\n",
    "        return BDDNode(exp, -1)\n",
    "\n",
    "    @staticmethod\n",
    "    def getNodeOne(numVars):\n",
    "        # the var for one node is made -2\n",
    "        exp = boolfunc.Expression.getEqnOne(numVars)\n",
    "        return BDDNode(exp, -2)\n",
    "\n",
    "    def getKey(self):\n",
    "        return (self.var, self.lo, self.hi)\n",
    "\n",
    "\n",
    "class BDD:\n",
    "    def __init__(self, exp: boolfunc.Expression, ordering: list) -> None:\n",
    "        self.exp = exp\n",
    "        self.ordering = ordering\n",
    "        # node/bdd cache\n",
    "        self.NODES = weakref.WeakValueDictionary()\n",
    "\n",
    "        self.BDDNODEZERO = BDDNode.getNodeZero(exp.numVars)\n",
    "        self.NODES[self.BDDNODEZERO.getKey()] = self.BDDNODEZERO\n",
    "\n",
    "        self.BDDNODEONE = BDDNode.getNodeOne(exp.numVars)\n",
    "        self.NODES[self.BDDNODEONE.getKey()] = self.BDDNODEONE\n",
    "\n",
    "        self.node = self._buildBDD()\n",
    "\n",
    "    def _buildBDD(self):\n",
    "        return buildBDD(self.exp, self.ordering, self.NODES)\n",
    "\n",
    "\n",
    "def buildBDD(exp, ordering, cache):\n",
    "    if exp.isFalse():\n",
    "        return cache[BDDNode.BDDNODEZEROKEY]\n",
    "    if exp.isTrue():\n",
    "        return cache[BDDNode.BDDNODEONEKEY]\n",
    "    for idx, var in enumerate(ordering):\n",
    "        if exp.isPresent(var):\n",
    "            return bddNode(exp, ordering[idx:], cache)\n",
    "\n",
    "    raise ValueError(\"invalid ordering list\")\n",
    "\n",
    "\n",
    "def bddNode(exp, ordering, cache):\n",
    "    var = ordering[0]\n",
    "    lo = exp.negativeCofactor(var)\n",
    "    hi = exp.positiveCofactor(var)\n",
    "    if lo is hi:\n",
    "        node = lo\n",
    "    else:\n",
    "        key = (var, lo, hi)\n",
    "        try:\n",
    "            node = cache[key]\n",
    "        except KeyError:\n",
    "            node = BDDNode(exp, var)\n",
    "            node.lo = buildBDD(lo, ordering, cache)\n",
    "            node.hi = buildBDD(hi, ordering, cache)\n",
    "            cache[key] = node\n",
    "    return node\n",
    "\n",
    "\n",
    "f = boolfunc.Expression(\n",
    "    r\"input\\1.pcn\")\n",
    "print(f)\n",
    "ordering = [2,3,1,4]\n",
    "print(ordering)"
   ]
  },
  {
   "cell_type": "code",
   "execution_count": 4,
   "metadata": {},
   "outputs": [
    {
     "data": {
      "text/plain": [
       "<__main__.BDD at 0x1b1bb9d28b0>"
      ]
     },
     "execution_count": 4,
     "metadata": {},
     "output_type": "execute_result"
    }
   ],
   "source": [
    "a = BDD(f, ordering)\n",
    "a"
   ]
  },
  {
   "cell_type": "code",
   "execution_count": 12,
   "metadata": {},
   "outputs": [
    {
     "data": {
      "text/plain": [
       "4\n",
       "2\n",
       "2 -3 4\n",
       "2 1 3"
      ]
     },
     "execution_count": 12,
     "metadata": {},
     "output_type": "execute_result"
    }
   ],
   "source": [
    "a.node.hi.exp"
   ]
  },
  {
   "cell_type": "code",
   "execution_count": 13,
   "metadata": {},
   "outputs": [
    {
     "data": {
      "text/plain": [
       "4\n",
       "2\n",
       "2 -3 4\n",
       "1 4"
      ]
     },
     "execution_count": 13,
     "metadata": {},
     "output_type": "execute_result"
    }
   ],
   "source": [
    "a.node.lo.exp"
   ]
  },
  {
   "cell_type": "code",
   "execution_count": 14,
   "metadata": {},
   "outputs": [
    {
     "data": {
      "text/plain": [
       "4\n",
       "1\n",
       "1 4"
      ]
     },
     "execution_count": 14,
     "metadata": {},
     "output_type": "execute_result"
    }
   ],
   "source": [
    "a.node.hi.lo.exp"
   ]
  },
  {
   "cell_type": "code",
   "execution_count": 9,
   "metadata": {},
   "outputs": [
    {
     "data": {
      "text/plain": [
       "4\n",
       "2\n",
       "2 -3 4\n",
       "1 4"
      ]
     },
     "execution_count": 9,
     "metadata": {},
     "output_type": "execute_result"
    }
   ],
   "source": [
    "a.node.lo.exp"
   ]
  },
  {
   "cell_type": "code",
   "execution_count": 13,
   "metadata": {},
   "outputs": [
    {
     "data": {
      "text/plain": [
       "2\n",
       "1\n",
       "0"
      ]
     },
     "execution_count": 13,
     "metadata": {},
     "output_type": "execute_result"
    }
   ],
   "source": [
    "a.node.lo.hi.exp"
   ]
  },
  {
   "cell_type": "code",
   "execution_count": 16,
   "metadata": {},
   "outputs": [
    {
     "data": {
      "text/plain": [
       "2\n",
       "1\n",
       "0"
      ]
     },
     "execution_count": 16,
     "metadata": {},
     "output_type": "execute_result"
    }
   ],
   "source": [
    "a.node.hi.exp"
   ]
  },
  {
   "cell_type": "code",
   "execution_count": 19,
   "metadata": {},
   "outputs": [
    {
     "data": {
      "text/plain": [
       "4\n",
       "2\n",
       "2 -3 4\n",
       "1 4"
      ]
     },
     "execution_count": 19,
     "metadata": {},
     "output_type": "execute_result"
    }
   ],
   "source": [
    "a.node.lo.exp"
   ]
  },
  {
   "cell_type": "code",
   "execution_count": 20,
   "metadata": {},
   "outputs": [
    {
     "data": {
      "text/plain": [
       "4\n",
       "0"
      ]
     },
     "execution_count": 20,
     "metadata": {},
     "output_type": "execute_result"
    }
   ],
   "source": [
    "a.node.lo.lo.exp"
   ]
  },
  {
   "cell_type": "code",
   "execution_count": 21,
   "metadata": {},
   "outputs": [
    {
     "data": {
      "text/plain": [
       "4\n",
       "1\n",
       "0"
      ]
     },
     "execution_count": 21,
     "metadata": {},
     "output_type": "execute_result"
    }
   ],
   "source": [
    "a.node.lo.hi.exp"
   ]
  },
  {
   "cell_type": "code",
   "execution_count": 17,
   "metadata": {},
   "outputs": [
    {
     "data": {
      "text/plain": [
       "7"
      ]
     },
     "execution_count": 17,
     "metadata": {},
     "output_type": "execute_result"
    }
   ],
   "source": [
    "len([x for x in a.NODES.keys()])"
   ]
  },
  {
   "cell_type": "code",
   "execution_count": 4,
   "metadata": {},
   "outputs": [
    {
     "name": "stdout",
     "output_type": "stream",
     "text": [
      "(-1, None, None)\n",
      "\n",
      "\n",
      "(-2, None, None)\n",
      "\n",
      "\n",
      "(2, 2\n",
      "0, 2\n",
      "1\n",
      "0)\n",
      "\n",
      "\n",
      "(1, 2\n",
      "1\n",
      "1 2, 2\n",
      "2\n",
      "0\n",
      "1 2)\n",
      "\n",
      "\n"
     ]
    }
   ],
   "source": [
    "for k in a.NODES.keys():\n",
    "    print(k)\n",
    "    print()\n",
    "    print()"
   ]
  },
  {
   "cell_type": "code",
   "execution_count": 22,
   "metadata": {},
   "outputs": [],
   "source": [
    "ordering = [1,4,2,3]"
   ]
  },
  {
   "cell_type": "code",
   "execution_count": 23,
   "metadata": {},
   "outputs": [
    {
     "ename": "ValueError",
     "evalue": "invalid ordering list",
     "output_type": "error",
     "traceback": [
      "\u001b[1;31m---------------------------------------------------------------------------\u001b[0m",
      "\u001b[1;31mKeyError\u001b[0m                                  Traceback (most recent call last)",
      "\u001b[1;32mc:\\Users\\inba2\\Desktop\\VLSI CAD\\03_BDD\\ROBDD\\tesy.ipynb Cell 15\u001b[0m in \u001b[0;36mbddNode\u001b[1;34m(exp, ordering, cache)\u001b[0m\n\u001b[0;32m     <a href='vscode-notebook-cell:/c%3A/Users/inba2/Desktop/VLSI%20CAD/03_BDD/ROBDD/tesy.ipynb#X10sZmlsZQ%3D%3D?line=73'>74</a>\u001b[0m \u001b[39mtry\u001b[39;00m:\n\u001b[1;32m---> <a href='vscode-notebook-cell:/c%3A/Users/inba2/Desktop/VLSI%20CAD/03_BDD/ROBDD/tesy.ipynb#X10sZmlsZQ%3D%3D?line=74'>75</a>\u001b[0m     node \u001b[39m=\u001b[39m cache[key]\n\u001b[0;32m     <a href='vscode-notebook-cell:/c%3A/Users/inba2/Desktop/VLSI%20CAD/03_BDD/ROBDD/tesy.ipynb#X10sZmlsZQ%3D%3D?line=75'>76</a>\u001b[0m \u001b[39mexcept\u001b[39;00m \u001b[39mKeyError\u001b[39;00m:\n",
      "File \u001b[1;32mc:\\ProgramData\\Anaconda3\\lib\\weakref.py:137\u001b[0m, in \u001b[0;36mWeakValueDictionary.__getitem__\u001b[1;34m(self, key)\u001b[0m\n\u001b[0;32m    136\u001b[0m     \u001b[39mself\u001b[39m\u001b[39m.\u001b[39m_commit_removals()\n\u001b[1;32m--> 137\u001b[0m o \u001b[39m=\u001b[39m \u001b[39mself\u001b[39;49m\u001b[39m.\u001b[39;49mdata[key]()\n\u001b[0;32m    138\u001b[0m \u001b[39mif\u001b[39;00m o \u001b[39mis\u001b[39;00m \u001b[39mNone\u001b[39;00m:\n",
      "\u001b[1;31mKeyError\u001b[0m: (1, 4\n2\n2 -3 4\n2 -2 4, 4\n3\n2 2 3\n2 -3 4\n2 -2 4)",
      "\nDuring handling of the above exception, another exception occurred:\n",
      "\u001b[1;31mKeyError\u001b[0m                                  Traceback (most recent call last)",
      "\u001b[1;32mc:\\Users\\inba2\\Desktop\\VLSI CAD\\03_BDD\\ROBDD\\tesy.ipynb Cell 15\u001b[0m in \u001b[0;36mbddNode\u001b[1;34m(exp, ordering, cache)\u001b[0m\n\u001b[0;32m     <a href='vscode-notebook-cell:/c%3A/Users/inba2/Desktop/VLSI%20CAD/03_BDD/ROBDD/tesy.ipynb#X10sZmlsZQ%3D%3D?line=73'>74</a>\u001b[0m \u001b[39mtry\u001b[39;00m:\n\u001b[1;32m---> <a href='vscode-notebook-cell:/c%3A/Users/inba2/Desktop/VLSI%20CAD/03_BDD/ROBDD/tesy.ipynb#X10sZmlsZQ%3D%3D?line=74'>75</a>\u001b[0m     node \u001b[39m=\u001b[39m cache[key]\n\u001b[0;32m     <a href='vscode-notebook-cell:/c%3A/Users/inba2/Desktop/VLSI%20CAD/03_BDD/ROBDD/tesy.ipynb#X10sZmlsZQ%3D%3D?line=75'>76</a>\u001b[0m \u001b[39mexcept\u001b[39;00m \u001b[39mKeyError\u001b[39;00m:\n",
      "File \u001b[1;32mc:\\ProgramData\\Anaconda3\\lib\\weakref.py:137\u001b[0m, in \u001b[0;36mWeakValueDictionary.__getitem__\u001b[1;34m(self, key)\u001b[0m\n\u001b[0;32m    136\u001b[0m     \u001b[39mself\u001b[39m\u001b[39m.\u001b[39m_commit_removals()\n\u001b[1;32m--> 137\u001b[0m o \u001b[39m=\u001b[39m \u001b[39mself\u001b[39;49m\u001b[39m.\u001b[39;49mdata[key]()\n\u001b[0;32m    138\u001b[0m \u001b[39mif\u001b[39;00m o \u001b[39mis\u001b[39;00m \u001b[39mNone\u001b[39;00m:\n",
      "\u001b[1;31mKeyError\u001b[0m: (4, 4\n0, 4\n2\n1 -3\n1 -2)",
      "\nDuring handling of the above exception, another exception occurred:\n",
      "\u001b[1;31mValueError\u001b[0m                                Traceback (most recent call last)",
      "\u001b[1;32mc:\\Users\\inba2\\Desktop\\VLSI CAD\\03_BDD\\ROBDD\\tesy.ipynb Cell 15\u001b[0m in \u001b[0;36m<cell line: 1>\u001b[1;34m()\u001b[0m\n\u001b[1;32m----> <a href='vscode-notebook-cell:/c%3A/Users/inba2/Desktop/VLSI%20CAD/03_BDD/ROBDD/tesy.ipynb#X10sZmlsZQ%3D%3D?line=0'>1</a>\u001b[0m b \u001b[39m=\u001b[39m BDD(f, ordering)\n\u001b[0;32m      <a href='vscode-notebook-cell:/c%3A/Users/inba2/Desktop/VLSI%20CAD/03_BDD/ROBDD/tesy.ipynb#X10sZmlsZQ%3D%3D?line=1'>2</a>\u001b[0m b\n",
      "\u001b[1;32mc:\\Users\\inba2\\Desktop\\VLSI CAD\\03_BDD\\ROBDD\\tesy.ipynb Cell 15\u001b[0m in \u001b[0;36mBDD.__init__\u001b[1;34m(self, exp, ordering)\u001b[0m\n\u001b[0;32m     <a href='vscode-notebook-cell:/c%3A/Users/inba2/Desktop/VLSI%20CAD/03_BDD/ROBDD/tesy.ipynb#X10sZmlsZQ%3D%3D?line=44'>45</a>\u001b[0m \u001b[39mself\u001b[39m\u001b[39m.\u001b[39mBDDNODEONE \u001b[39m=\u001b[39m BDDNode\u001b[39m.\u001b[39mgetNodeOne(exp\u001b[39m.\u001b[39mnumVars)\n\u001b[0;32m     <a href='vscode-notebook-cell:/c%3A/Users/inba2/Desktop/VLSI%20CAD/03_BDD/ROBDD/tesy.ipynb#X10sZmlsZQ%3D%3D?line=45'>46</a>\u001b[0m \u001b[39mself\u001b[39m\u001b[39m.\u001b[39mNODES[\u001b[39mself\u001b[39m\u001b[39m.\u001b[39mBDDNODEONE\u001b[39m.\u001b[39mgetKey()] \u001b[39m=\u001b[39m \u001b[39mself\u001b[39m\u001b[39m.\u001b[39mBDDNODEONE\n\u001b[1;32m---> <a href='vscode-notebook-cell:/c%3A/Users/inba2/Desktop/VLSI%20CAD/03_BDD/ROBDD/tesy.ipynb#X10sZmlsZQ%3D%3D?line=47'>48</a>\u001b[0m \u001b[39mself\u001b[39m\u001b[39m.\u001b[39mnode \u001b[39m=\u001b[39m \u001b[39mself\u001b[39;49m\u001b[39m.\u001b[39;49m_buildBDD()\n",
      "\u001b[1;32mc:\\Users\\inba2\\Desktop\\VLSI CAD\\03_BDD\\ROBDD\\tesy.ipynb Cell 15\u001b[0m in \u001b[0;36mBDD._buildBDD\u001b[1;34m(self)\u001b[0m\n\u001b[0;32m     <a href='vscode-notebook-cell:/c%3A/Users/inba2/Desktop/VLSI%20CAD/03_BDD/ROBDD/tesy.ipynb#X10sZmlsZQ%3D%3D?line=49'>50</a>\u001b[0m \u001b[39mdef\u001b[39;00m \u001b[39m_buildBDD\u001b[39m(\u001b[39mself\u001b[39m):\n\u001b[1;32m---> <a href='vscode-notebook-cell:/c%3A/Users/inba2/Desktop/VLSI%20CAD/03_BDD/ROBDD/tesy.ipynb#X10sZmlsZQ%3D%3D?line=50'>51</a>\u001b[0m     \u001b[39mreturn\u001b[39;00m buildBDD(\u001b[39mself\u001b[39;49m\u001b[39m.\u001b[39;49mexp, \u001b[39mself\u001b[39;49m\u001b[39m.\u001b[39;49mordering, \u001b[39mself\u001b[39;49m\u001b[39m.\u001b[39;49mNODES)\n",
      "\u001b[1;32mc:\\Users\\inba2\\Desktop\\VLSI CAD\\03_BDD\\ROBDD\\tesy.ipynb Cell 15\u001b[0m in \u001b[0;36mbuildBDD\u001b[1;34m(exp, ordering, cache)\u001b[0m\n\u001b[0;32m     <a href='vscode-notebook-cell:/c%3A/Users/inba2/Desktop/VLSI%20CAD/03_BDD/ROBDD/tesy.ipynb#X10sZmlsZQ%3D%3D?line=58'>59</a>\u001b[0m \u001b[39mfor\u001b[39;00m idx, var \u001b[39min\u001b[39;00m \u001b[39menumerate\u001b[39m(ordering):\n\u001b[0;32m     <a href='vscode-notebook-cell:/c%3A/Users/inba2/Desktop/VLSI%20CAD/03_BDD/ROBDD/tesy.ipynb#X10sZmlsZQ%3D%3D?line=59'>60</a>\u001b[0m     \u001b[39mif\u001b[39;00m exp\u001b[39m.\u001b[39misPresent(var):\n\u001b[1;32m---> <a href='vscode-notebook-cell:/c%3A/Users/inba2/Desktop/VLSI%20CAD/03_BDD/ROBDD/tesy.ipynb#X10sZmlsZQ%3D%3D?line=60'>61</a>\u001b[0m         \u001b[39mreturn\u001b[39;00m bddNode(exp, ordering[idx:], cache)\n\u001b[0;32m     <a href='vscode-notebook-cell:/c%3A/Users/inba2/Desktop/VLSI%20CAD/03_BDD/ROBDD/tesy.ipynb#X10sZmlsZQ%3D%3D?line=62'>63</a>\u001b[0m \u001b[39mraise\u001b[39;00m \u001b[39mValueError\u001b[39;00m(\u001b[39m\"\u001b[39m\u001b[39minvalid ordering list\u001b[39m\u001b[39m\"\u001b[39m)\n",
      "\u001b[1;32mc:\\Users\\inba2\\Desktop\\VLSI CAD\\03_BDD\\ROBDD\\tesy.ipynb Cell 15\u001b[0m in \u001b[0;36mbddNode\u001b[1;34m(exp, ordering, cache)\u001b[0m\n\u001b[0;32m     <a href='vscode-notebook-cell:/c%3A/Users/inba2/Desktop/VLSI%20CAD/03_BDD/ROBDD/tesy.ipynb#X10sZmlsZQ%3D%3D?line=75'>76</a>\u001b[0m \u001b[39mexcept\u001b[39;00m \u001b[39mKeyError\u001b[39;00m:\n\u001b[0;32m     <a href='vscode-notebook-cell:/c%3A/Users/inba2/Desktop/VLSI%20CAD/03_BDD/ROBDD/tesy.ipynb#X10sZmlsZQ%3D%3D?line=76'>77</a>\u001b[0m     node \u001b[39m=\u001b[39m BDDNode(exp, var)\n\u001b[1;32m---> <a href='vscode-notebook-cell:/c%3A/Users/inba2/Desktop/VLSI%20CAD/03_BDD/ROBDD/tesy.ipynb#X10sZmlsZQ%3D%3D?line=77'>78</a>\u001b[0m     node\u001b[39m.\u001b[39mlo \u001b[39m=\u001b[39m buildBDD(lo, ordering, cache)\n\u001b[0;32m     <a href='vscode-notebook-cell:/c%3A/Users/inba2/Desktop/VLSI%20CAD/03_BDD/ROBDD/tesy.ipynb#X10sZmlsZQ%3D%3D?line=78'>79</a>\u001b[0m     node\u001b[39m.\u001b[39mhi \u001b[39m=\u001b[39m buildBDD(hi, ordering, cache)\n\u001b[0;32m     <a href='vscode-notebook-cell:/c%3A/Users/inba2/Desktop/VLSI%20CAD/03_BDD/ROBDD/tesy.ipynb#X10sZmlsZQ%3D%3D?line=79'>80</a>\u001b[0m     cache[key] \u001b[39m=\u001b[39m node\n",
      "\u001b[1;32mc:\\Users\\inba2\\Desktop\\VLSI CAD\\03_BDD\\ROBDD\\tesy.ipynb Cell 15\u001b[0m in \u001b[0;36mbuildBDD\u001b[1;34m(exp, ordering, cache)\u001b[0m\n\u001b[0;32m     <a href='vscode-notebook-cell:/c%3A/Users/inba2/Desktop/VLSI%20CAD/03_BDD/ROBDD/tesy.ipynb#X10sZmlsZQ%3D%3D?line=58'>59</a>\u001b[0m \u001b[39mfor\u001b[39;00m idx, var \u001b[39min\u001b[39;00m \u001b[39menumerate\u001b[39m(ordering):\n\u001b[0;32m     <a href='vscode-notebook-cell:/c%3A/Users/inba2/Desktop/VLSI%20CAD/03_BDD/ROBDD/tesy.ipynb#X10sZmlsZQ%3D%3D?line=59'>60</a>\u001b[0m     \u001b[39mif\u001b[39;00m exp\u001b[39m.\u001b[39misPresent(var):\n\u001b[1;32m---> <a href='vscode-notebook-cell:/c%3A/Users/inba2/Desktop/VLSI%20CAD/03_BDD/ROBDD/tesy.ipynb#X10sZmlsZQ%3D%3D?line=60'>61</a>\u001b[0m         \u001b[39mreturn\u001b[39;00m bddNode(exp, ordering[idx:], cache)\n\u001b[0;32m     <a href='vscode-notebook-cell:/c%3A/Users/inba2/Desktop/VLSI%20CAD/03_BDD/ROBDD/tesy.ipynb#X10sZmlsZQ%3D%3D?line=62'>63</a>\u001b[0m \u001b[39mraise\u001b[39;00m \u001b[39mValueError\u001b[39;00m(\u001b[39m\"\u001b[39m\u001b[39minvalid ordering list\u001b[39m\u001b[39m\"\u001b[39m)\n",
      "\u001b[1;32mc:\\Users\\inba2\\Desktop\\VLSI CAD\\03_BDD\\ROBDD\\tesy.ipynb Cell 15\u001b[0m in \u001b[0;36mbddNode\u001b[1;34m(exp, ordering, cache)\u001b[0m\n\u001b[0;32m     <a href='vscode-notebook-cell:/c%3A/Users/inba2/Desktop/VLSI%20CAD/03_BDD/ROBDD/tesy.ipynb#X10sZmlsZQ%3D%3D?line=76'>77</a>\u001b[0m         node \u001b[39m=\u001b[39m BDDNode(exp, var)\n\u001b[0;32m     <a href='vscode-notebook-cell:/c%3A/Users/inba2/Desktop/VLSI%20CAD/03_BDD/ROBDD/tesy.ipynb#X10sZmlsZQ%3D%3D?line=77'>78</a>\u001b[0m         node\u001b[39m.\u001b[39mlo \u001b[39m=\u001b[39m buildBDD(lo, ordering, cache)\n\u001b[1;32m---> <a href='vscode-notebook-cell:/c%3A/Users/inba2/Desktop/VLSI%20CAD/03_BDD/ROBDD/tesy.ipynb#X10sZmlsZQ%3D%3D?line=78'>79</a>\u001b[0m         node\u001b[39m.\u001b[39mhi \u001b[39m=\u001b[39m buildBDD(hi, ordering, cache)\n\u001b[0;32m     <a href='vscode-notebook-cell:/c%3A/Users/inba2/Desktop/VLSI%20CAD/03_BDD/ROBDD/tesy.ipynb#X10sZmlsZQ%3D%3D?line=79'>80</a>\u001b[0m         cache[key] \u001b[39m=\u001b[39m node\n\u001b[0;32m     <a href='vscode-notebook-cell:/c%3A/Users/inba2/Desktop/VLSI%20CAD/03_BDD/ROBDD/tesy.ipynb#X10sZmlsZQ%3D%3D?line=80'>81</a>\u001b[0m \u001b[39mreturn\u001b[39;00m node\n",
      "\u001b[1;32mc:\\Users\\inba2\\Desktop\\VLSI CAD\\03_BDD\\ROBDD\\tesy.ipynb Cell 15\u001b[0m in \u001b[0;36mbuildBDD\u001b[1;34m(exp, ordering, cache)\u001b[0m\n\u001b[0;32m     <a href='vscode-notebook-cell:/c%3A/Users/inba2/Desktop/VLSI%20CAD/03_BDD/ROBDD/tesy.ipynb#X10sZmlsZQ%3D%3D?line=59'>60</a>\u001b[0m     \u001b[39mif\u001b[39;00m exp\u001b[39m.\u001b[39misPresent(var):\n\u001b[0;32m     <a href='vscode-notebook-cell:/c%3A/Users/inba2/Desktop/VLSI%20CAD/03_BDD/ROBDD/tesy.ipynb#X10sZmlsZQ%3D%3D?line=60'>61</a>\u001b[0m         \u001b[39mreturn\u001b[39;00m bddNode(exp, ordering[idx:], cache)\n\u001b[1;32m---> <a href='vscode-notebook-cell:/c%3A/Users/inba2/Desktop/VLSI%20CAD/03_BDD/ROBDD/tesy.ipynb#X10sZmlsZQ%3D%3D?line=62'>63</a>\u001b[0m \u001b[39mraise\u001b[39;00m \u001b[39mValueError\u001b[39;00m(\u001b[39m\"\u001b[39m\u001b[39minvalid ordering list\u001b[39m\u001b[39m\"\u001b[39m)\n",
      "\u001b[1;31mValueError\u001b[0m: invalid ordering list"
     ]
    }
   ],
   "source": [
    "b = BDD(f, ordering)\n",
    "b"
   ]
  },
  {
   "cell_type": "code",
   "execution_count": null,
   "metadata": {},
   "outputs": [],
   "source": []
  }
 ],
 "metadata": {
  "kernelspec": {
   "display_name": "Python 3.9.12 ('base')",
   "language": "python",
   "name": "python3"
  },
  "language_info": {
   "codemirror_mode": {
    "name": "ipython",
    "version": 3
   },
   "file_extension": ".py",
   "mimetype": "text/x-python",
   "name": "python",
   "nbconvert_exporter": "python",
   "pygments_lexer": "ipython3",
   "version": "3.9.12"
  },
  "orig_nbformat": 4,
  "vscode": {
   "interpreter": {
    "hash": "ad2bdc8ecc057115af97d19610ffacc2b4e99fae6737bb82f5d7fb13d2f2c186"
   }
  }
 },
 "nbformat": 4,
 "nbformat_minor": 2
}
